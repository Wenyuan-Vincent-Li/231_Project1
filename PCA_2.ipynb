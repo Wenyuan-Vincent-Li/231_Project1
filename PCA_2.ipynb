{
 "cells": [
  {
   "cell_type": "code",
   "execution_count": 1,
   "metadata": {},
   "outputs": [],
   "source": [
    "import skimage\n",
    "import skimage.io\n",
    "import scipy.io\n",
    "import os, sys\n",
    "import utils\n",
    "import numpy as np\n",
    "import scipy.io\n",
    "import matplotlib.pyplot as plt"
   ]
  },
  {
   "cell_type": "markdown",
   "metadata": {},
   "source": [
    "## Calculate the mean landmark and train data X"
   ]
  },
  {
   "cell_type": "code",
   "execution_count": null,
   "metadata": {},
   "outputs": [],
   "source": [
    "landmark_folder = os.path.join(os.getcwd(), \"landmarks\")\n",
    "files = utils.files_under_folder_with_suffix(landmark_folder, suffix = '.mat')"
   ]
  },
  {
   "cell_type": "code",
   "execution_count": null,
   "metadata": {},
   "outputs": [],
   "source": [
    "train_set = files[:800]"
   ]
  },
  {
   "cell_type": "code",
   "execution_count": null,
   "metadata": {},
   "outputs": [],
   "source": [
    "mean_LM, X = utils.LM_mean_LM_data(landmark_folder, train_set)"
   ]
  },
  {
   "cell_type": "code",
   "execution_count": null,
   "metadata": {},
   "outputs": [],
   "source": [
    "mdict = {\"mean_landmark\": mean_LM, \"train_data\": X}\n",
    "scipy.io.savemat(\"PCA_Train_Data_LandMark.mat\", mdict)"
   ]
  },
  {
   "cell_type": "markdown",
   "metadata": {},
   "source": [
    "## Read in the mean landmark"
   ]
  },
  {
   "cell_type": "code",
   "execution_count": 2,
   "metadata": {},
   "outputs": [],
   "source": [
    "mdict = scipy.io.loadmat(\"PCA_Train_Data_LandMark.mat\")\n",
    "mean_LM = mdict[\"mean_landmark\"]\n",
    "X = mdict[\"train_data\"]"
   ]
  },
  {
   "cell_type": "code",
   "execution_count": null,
   "metadata": {},
   "outputs": [],
   "source": [
    "print(mean_LM.shape, X.shape)"
   ]
  },
  {
   "cell_type": "code",
   "execution_count": 3,
   "metadata": {},
   "outputs": [],
   "source": [
    "X_center = X - mean_LM"
   ]
  },
  {
   "cell_type": "code",
   "execution_count": 4,
   "metadata": {},
   "outputs": [],
   "source": [
    "Pseudo_Cov_Matrix = np.matmul(X_center, np.transpose(X_center))"
   ]
  },
  {
   "cell_type": "code",
   "execution_count": 5,
   "metadata": {},
   "outputs": [],
   "source": [
    "P_eigen_vector, P_engen_value, _ = np.linalg.svd(Pseudo_Cov_Matrix)"
   ]
  },
  {
   "cell_type": "markdown",
   "metadata": {},
   "source": [
    "## Calculate first 50 eigen-warping"
   ]
  },
  {
   "cell_type": "code",
   "execution_count": 6,
   "metadata": {},
   "outputs": [],
   "source": [
    "for i in range(50):\n",
    "    if i == 0:\n",
    "        cur_warping = np.matmul(np.transpose(X_center), P_eigen_vector[:, i])\n",
    "        eigen_warping =  np.expand_dims(cur_warping / np.sqrt(np.dot(cur_warping, cur_warping)), axis = 0)\n",
    "    else:\n",
    "        cur_warping = np.matmul(np.transpose(X_center), P_eigen_vector[:, i])\n",
    "        eigen_warping = np.concatenate((eigen_warping, np.expand_dims(cur_warping / np.sqrt(np.dot(cur_warping, cur_warping)), axis = 0)), axis = 0)"
   ]
  },
  {
   "cell_type": "code",
   "execution_count": 7,
   "metadata": {},
   "outputs": [],
   "source": [
    "mdict = {\"mean_LM\": mean_LM, \"eigen_warping\": eigen_warping}\n",
    "scipy.io.savemat(\"PCA_Eigen_warping.mat\", mdict)"
   ]
  },
  {
   "cell_type": "code",
   "execution_count": null,
   "metadata": {},
   "outputs": [],
   "source": [
    "Eigen_warping = eigen_warping + mean_LM"
   ]
  },
  {
   "cell_type": "code",
   "execution_count": null,
   "metadata": {},
   "outputs": [],
   "source": [
    "Eigen_warping = np.reshape(Eigen_warping, (Eigen_warping.shape[0], int(Eigen_warping.shape[1] / 2), 2 ))"
   ]
  },
  {
   "cell_type": "code",
   "execution_count": null,
   "metadata": {},
   "outputs": [],
   "source": [
    "fig = plt.figure()\n",
    "plt.clf()\n",
    "marker_style = ['o', 'v', '^', '<', '>', '8', 's', 'p', '*', 'h', 'H', 'D', 'd', 'P', 'X']\n",
    "for i in range(10):\n",
    "    plt.scatter(Eigen_warping[i, :, 0], -Eigen_warping[i, :, 1], marker = marker_style[i])\n",
    "plt.title(\"First 10 Eigen Warpings\")\n",
    "plt.show()\n",
    "fig.savefig(\"5_10_eigen_warpings.png\")"
   ]
  },
  {
   "cell_type": "markdown",
   "metadata": {},
   "source": [
    "## Reconstructed Loss"
   ]
  },
  {
   "cell_type": "code",
   "execution_count": null,
   "metadata": {},
   "outputs": [],
   "source": [
    "test_set = files[800:]"
   ]
  },
  {
   "cell_type": "code",
   "execution_count": null,
   "metadata": {},
   "outputs": [],
   "source": [
    "_, X_test = utils.LM_mean_LM_data(landmark_folder, test_set)"
   ]
  },
  {
   "cell_type": "code",
   "execution_count": null,
   "metadata": {},
   "outputs": [],
   "source": [
    "X_center = X_test - mean_LM"
   ]
  },
  {
   "cell_type": "code",
   "execution_count": null,
   "metadata": {},
   "outputs": [],
   "source": [
    "K = [x for x in range(0, 55, 5)]\n",
    "K[0] = 1\n",
    "Loss = []\n",
    "for k in K:\n",
    "    loss = utils.reconstructed_loss_landmark(X_center, eigen_warping[: k, :])\n",
    "    Loss.append(loss)"
   ]
  },
  {
   "cell_type": "code",
   "execution_count": null,
   "metadata": {},
   "outputs": [],
   "source": [
    "plt.plot(K, Loss)\n",
    "plt.xlabel(\"N_components\")\n",
    "plt.ylabel(\"Reconstruction Error for the landmark\")\n",
    "plt.show()\n",
    "plt.savefig(\"6_reconstructed_error_landmark.png\")"
   ]
  },
  {
   "cell_type": "code",
   "execution_count": null,
   "metadata": {},
   "outputs": [],
   "source": [
    "eigen_v = eigen_warping[:10, :]\n",
    "coef = np.matmul(X_center, eigen_v.T)\n",
    "print(coef.shape)"
   ]
  },
  {
   "cell_type": "code",
   "execution_count": null,
   "metadata": {},
   "outputs": [],
   "source": [
    "recons = np.matmul(coef, eigen_v)\n",
    "print(recons.shape)"
   ]
  },
  {
   "cell_type": "code",
   "execution_count": null,
   "metadata": {},
   "outputs": [],
   "source": [
    "loss = np.square(X_center - recons)\n",
    "loss = np.sum(loss)/(loss.shape[0] * loss.shape[1])\n",
    "loss"
   ]
  }
 ],
 "metadata": {
  "kernelspec": {
   "display_name": "Python 3",
   "language": "python",
   "name": "python3"
  },
  "language_info": {
   "codemirror_mode": {
    "name": "ipython",
    "version": 3
   },
   "file_extension": ".py",
   "mimetype": "text/x-python",
   "name": "python",
   "nbconvert_exporter": "python",
   "pygments_lexer": "ipython3",
   "version": "3.6.5"
  }
 },
 "nbformat": 4,
 "nbformat_minor": 2
}
