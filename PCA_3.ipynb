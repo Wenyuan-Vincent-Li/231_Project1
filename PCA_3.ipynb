{
 "cells": [
  {
   "cell_type": "code",
   "execution_count": 1,
   "metadata": {},
   "outputs": [],
   "source": [
    "import skimage\n",
    "import skimage.io\n",
    "import os, sys\n",
    "import utils\n",
    "import numpy as np\n",
    "import scipy.io\n",
    "import matplotlib.pyplot as plt\n",
    "import mywarper"
   ]
  },
  {
   "cell_type": "markdown",
   "metadata": {},
   "source": [
    "## Read in the mean landmark"
   ]
  },
  {
   "cell_type": "code",
   "execution_count": 3,
   "metadata": {},
   "outputs": [],
   "source": [
    "mdict = scipy.io.loadmat(\"PCA_Train_Data_LandMark.mat\")\n",
    "mean_LM = mdict[\"mean_landmark\"]\n",
    "X_LM = mdict[\"train_data\"]\n",
    "X_LM_center =  X_LM - mean_LM"
   ]
  },
  {
   "cell_type": "code",
   "execution_count": 4,
   "metadata": {},
   "outputs": [],
   "source": [
    "Pseudo_Cov_Matrix = np.matmul(X_LM_center, np.transpose(X_LM_center))\n",
    "P_eigen_vector, P_engen_value, _ = np.linalg.svd(Pseudo_Cov_Matrix)"
   ]
  },
  {
   "cell_type": "markdown",
   "metadata": {},
   "source": [
    "## Calculate first 50 eigen-warping"
   ]
  },
  {
   "cell_type": "code",
   "execution_count": 5,
   "metadata": {},
   "outputs": [],
   "source": [
    "for i in range(50):\n",
    "    if i == 0:\n",
    "        cur_warping = np.matmul(np.transpose(X_LM_center), P_eigen_vector[:, i])\n",
    "        eigen_warping =  np.expand_dims(cur_warping / np.sqrt(np.dot(cur_warping, cur_warping)), axis = 0)\n",
    "    else:\n",
    "        cur_warping = np.matmul(np.transpose(X_LM_center), P_eigen_vector[:, i])\n",
    "        eigen_warping = np.concatenate((eigen_warping, np.expand_dims(cur_warping / np.sqrt(np.dot(cur_warping, cur_warping)), axis = 0)), axis = 0)"
   ]
  },
  {
   "cell_type": "code",
   "execution_count": 6,
   "metadata": {},
   "outputs": [],
   "source": [
    "mdict = {\"eigen_warping\": eigen_warping, \"mean_warping\": mean_LM}\n",
    "scipy.io.savemat(\"PCA_eigen_mean_warping.mat\", mdict)"
   ]
  },
  {
   "cell_type": "markdown",
   "metadata": {},
   "source": [
    "## Read in the eigen warpings"
   ]
  },
  {
   "cell_type": "code",
   "execution_count": 7,
   "metadata": {},
   "outputs": [],
   "source": [
    "mdict = scipy.io.loadmat(\"PCA_eigen_mean_warping.mat\")\n",
    "mean_LM = mdict[\"mean_warping\"]\n",
    "eigen_warping = mdict[\"eigen_warping\"]\n",
    "target_LM = mean_LM.reshape(68, 2)"
   ]
  },
  {
   "cell_type": "markdown",
   "metadata": {},
   "source": [
    "## Warp the training images into the mean postion"
   ]
  },
  {
   "cell_type": "code",
   "execution_count": 8,
   "metadata": {},
   "outputs": [],
   "source": [
    "image_folder = os.path.join(os.getcwd(), \"images\")\n",
    "image_files = utils.files_under_folder_with_suffix(image_folder, suffix = '.jpg')\n",
    "train_set_im = image_files[:800]\n",
    "\n",
    "landmark_folder = os.path.join(os.getcwd(), \"landmarks\")\n",
    "LM_files = utils.files_under_folder_with_suffix(landmark_folder, suffix = '.mat')\n",
    "train_set_LM = LM_files[:800]\n",
    "\n",
    "aligned_folder = os.path.join(os.getcwd(), \"aligned_images\")"
   ]
  },
  {
   "cell_type": "code",
   "execution_count": 10,
   "metadata": {},
   "outputs": [],
   "source": [
    "utils.generate_aligned_images(image_folder, landmark_folder, train_set_im, train_set_LM, aligned_folder, target_LM)"
   ]
  },
  {
   "cell_type": "markdown",
   "metadata": {},
   "source": [
    "## Compute the first 50 eigen-face"
   ]
  },
  {
   "cell_type": "code",
   "execution_count": 11,
   "metadata": {},
   "outputs": [],
   "source": [
    "mean_image, X = utils.X_mean_V_chanel(aligned_folder, train_set_im)"
   ]
  },
  {
   "cell_type": "code",
   "execution_count": 12,
   "metadata": {},
   "outputs": [
    {
     "name": "stdout",
     "output_type": "stream",
     "text": [
      "(1, 16384) (800, 16384)\n"
     ]
    }
   ],
   "source": [
    "print(mean_image.shape, X.shape)"
   ]
  },
  {
   "cell_type": "code",
   "execution_count": 13,
   "metadata": {},
   "outputs": [],
   "source": [
    "X_center = X - mean_image\n",
    "Pseudo_Cov_Matrix = np.matmul(X_center, np.transpose(X_center))\n",
    "P_eigen_vector, P_engen_value, _ = np.linalg.svd(Pseudo_Cov_Matrix)\n",
    "for i in range(50):\n",
    "    if i == 0:\n",
    "        cur_face = np.matmul(np.transpose(X_center), P_eigen_vector[:, i])\n",
    "        eigen_face =  np.expand_dims(cur_face / np.sqrt(np.dot(cur_face, cur_face)), axis = 0)\n",
    "    else:\n",
    "        cur_face = np.matmul(np.transpose(X_center), P_eigen_vector[:, i])\n",
    "        eigen_face = np.concatenate((eigen_face, np.expand_dims(cur_face / np.sqrt(np.dot(cur_face, cur_face)), axis = 0)), axis = 0)"
   ]
  },
  {
   "cell_type": "code",
   "execution_count": 14,
   "metadata": {},
   "outputs": [],
   "source": [
    "mdict = {\"mean_image\": mean_image, \"aligned_eigen_face\": eigen_face}\n",
    "scipy.io.savemat(\"PCA_Aligned_Eigen_Face.mat\", mdict)"
   ]
  },
  {
   "cell_type": "markdown",
   "metadata": {},
   "source": [
    "## Warp the test images into the mean postion"
   ]
  },
  {
   "cell_type": "code",
   "execution_count": null,
   "metadata": {},
   "outputs": [],
   "source": [
    "test_set_im = image_files[800:]\n",
    "test_set_LM = LM_files[800:]"
   ]
  },
  {
   "cell_type": "code",
   "execution_count": null,
   "metadata": {},
   "outputs": [],
   "source": [
    "utils.generate_aligned_images(image_folder, landmark_folder, test_set_im, test_set_LM, aligned_folder, target_LM)"
   ]
  },
  {
   "cell_type": "markdown",
   "metadata": {},
   "source": [
    "## Project the test images to the 10-eigen-warpings"
   ]
  },
  {
   "cell_type": "code",
   "execution_count": null,
   "metadata": {},
   "outputs": [],
   "source": [
    "_, X_test = utils.LM_mean_LM_data(landmark_folder, test_set_LM)"
   ]
  },
  {
   "cell_type": "code",
   "execution_count": null,
   "metadata": {},
   "outputs": [],
   "source": [
    "mdict = scipy.io.loadmat(\"PCA_Eigen_warping.mat\")\n",
    "mean_LM = mdict[\"mean_LM\"]\n",
    "eigen_warping = mdict[\"eigen_warping\"][:10, :] # top 10 eigen warpings"
   ]
  },
  {
   "cell_type": "code",
   "execution_count": null,
   "metadata": {},
   "outputs": [],
   "source": [
    "coef = np.matmul(X_test - mean_LM, eigen_warping.T)\n",
    "recons_LM = np.matmul(coef, eigen_warping) + mean_LM\n",
    "recons_LM = recons_LM.reshape((recons_LM.shape[0], 68, 2))\n",
    "# recons_LM[:, :, 1] = -recons_LM[:, :, 1]"
   ]
  },
  {
   "cell_type": "markdown",
   "metadata": {},
   "source": [
    "## Project the test images to top 50-eigen-faces "
   ]
  },
  {
   "cell_type": "code",
   "execution_count": null,
   "metadata": {},
   "outputs": [],
   "source": [
    "_, X_test = utils.X_mean_V_chanel(aligned_folder, test_set_im)\n",
    "X_test.shape"
   ]
  },
  {
   "cell_type": "code",
   "execution_count": null,
   "metadata": {},
   "outputs": [],
   "source": [
    "mdict = scipy.io.loadmat(\"PCA_Aligned_Eigen_Face.mat\")\n",
    "mean_image = mdict[\"mean_image\"]\n",
    "eigen_face = mdict[\"aligned_eigen_face\"]"
   ]
  },
  {
   "cell_type": "code",
   "execution_count": null,
   "metadata": {},
   "outputs": [],
   "source": [
    "_, X_re = utils.reconstruct_image(aligned_folder, test_set_im, mean_image, eigen_face)"
   ]
  },
  {
   "cell_type": "code",
   "execution_count": null,
   "metadata": {},
   "outputs": [],
   "source": [
    "X_re.shape"
   ]
  },
  {
   "cell_type": "code",
   "execution_count": null,
   "metadata": {},
   "outputs": [],
   "source": [
    "fig_re = utils.plot(X_re[50:70, :], 10, 5, 3, 128, 128)"
   ]
  },
  {
   "cell_type": "markdown",
   "metadata": {},
   "source": [
    "## Warp back to the original landmark"
   ]
  },
  {
   "cell_type": "code",
   "execution_count": null,
   "metadata": {},
   "outputs": [],
   "source": [
    "X_re = X_re.reshape((X_re.shape[0], 128, 128, 3))"
   ]
  },
  {
   "cell_type": "code",
   "execution_count": null,
   "metadata": {},
   "outputs": [],
   "source": [
    "Mean_LM = mean_LM.reshape((68, 2))\n",
    "for i in range(X_re.shape[0]):\n",
    "    final_im = mywarper.warp(X_re[i, :, :, :], Mean_LM, recons_LM[i, :, :])\n",
    "    if i == 0:\n",
    "        Final_im = np.expand_dims(final_im, axis = 0)\n",
    "    else:\n",
    "        Final_im = np.concatenate([Final_im, np.expand_dims(final_im, axis = 0)], axis = 0)"
   ]
  },
  {
   "cell_type": "markdown",
   "metadata": {},
   "source": [
    "## Plot 20 Reconstructed Faces and original faces"
   ]
  },
  {
   "cell_type": "code",
   "execution_count": null,
   "metadata": {},
   "outputs": [],
   "source": [
    "fig_re = utils.plot(Final_im[50:70], 4, 5, 3, 128, 128)\n",
    "fig_re.savefig(\"7_20_reconstructed_faces.png\")"
   ]
  },
  {
   "cell_type": "code",
   "execution_count": null,
   "metadata": {},
   "outputs": [],
   "source": [
    "X, _ = utils.reconstruct_image(image_folder, test_set_im, mean_image, eigen_face)"
   ]
  },
  {
   "cell_type": "code",
   "execution_count": null,
   "metadata": {},
   "outputs": [],
   "source": [
    "fig_org = utils.plot(X[50:70], 4, 5, 3, 128, 128)\n",
    "fig_org.savefig(\"8_20_org_faces.png\")"
   ]
  },
  {
   "cell_type": "code",
   "execution_count": null,
   "metadata": {},
   "outputs": [],
   "source": []
  }
 ],
 "metadata": {
  "kernelspec": {
   "display_name": "Python 3",
   "language": "python",
   "name": "python3"
  },
  "language_info": {
   "codemirror_mode": {
    "name": "ipython",
    "version": 3
   },
   "file_extension": ".py",
   "mimetype": "text/x-python",
   "name": "python",
   "nbconvert_exporter": "python",
   "pygments_lexer": "ipython3",
   "version": "3.6.6"
  }
 },
 "nbformat": 4,
 "nbformat_minor": 2
}
