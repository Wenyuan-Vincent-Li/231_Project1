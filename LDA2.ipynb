{
 "cells": [
  {
   "cell_type": "code",
   "execution_count": 1,
   "metadata": {},
   "outputs": [],
   "source": [
    "import skimage\n",
    "import skimage.io\n",
    "import os, sys\n",
    "import utils\n",
    "import numpy as np\n",
    "import scipy.io\n",
    "import matplotlib.pyplot as plt\n",
    "import mywarper"
   ]
  },
  {
   "cell_type": "code",
   "execution_count": 16,
   "metadata": {},
   "outputs": [],
   "source": [
    "male_image_folder = os.path.join(os.getcwd(), \"male_images\")\n",
    "male_LM_folder = os.path.join(os.getcwd(), \"male_landmarks\")\n",
    "male_im_files = utils.files_under_folder_with_suffix(male_image_folder, suffix = '.jpg')\n",
    "male_LM_files = utils.files_under_folder_with_suffix(male_LM_folder, suffix = '.mat')\n",
    "\n",
    "female_image_folder = os.path.join(os.getcwd(), \"female_images\")\n",
    "female_LM_folder = os.path.join(os.getcwd(), \"female_landmarks\")\n",
    "female_im_files = utils.files_under_folder_with_suffix(female_image_folder, suffix = '.jpg')\n",
    "female_LM_files = utils.files_under_folder_with_suffix(female_LM_folder, suffix = '.mat')"
   ]
  },
  {
   "cell_type": "markdown",
   "metadata": {},
   "source": [
    "## Read in top 50 aligned eigen-face"
   ]
  },
  {
   "cell_type": "code",
   "execution_count": 3,
   "metadata": {},
   "outputs": [],
   "source": [
    "mdict = scipy.io.loadmat(\"PCA_Aligned_Eigen_Face.mat\")\n",
    "mean_image = mdict[\"mean_image\"]\n",
    "aligend_eigen_face = mdict[\"aligned_eigen_face\"]"
   ]
  },
  {
   "cell_type": "markdown",
   "metadata": {},
   "source": [
    "## Compute aligned eigen face for male and female"
   ]
  },
  {
   "cell_type": "code",
   "execution_count": 4,
   "metadata": {},
   "outputs": [],
   "source": [
    "aligned_folder = os.path.join(os.getcwd(), \"aligned_images\")\n",
    "_, X_male = utils.X_mean_V_chanel(aligned_folder, male_im_files)"
   ]
  },
  {
   "cell_type": "code",
   "execution_count": 6,
   "metadata": {},
   "outputs": [],
   "source": [
    "X_male_center = X_male - mean_image"
   ]
  },
  {
   "cell_type": "code",
   "execution_count": 7,
   "metadata": {},
   "outputs": [],
   "source": [
    "male_coef = np.matmul(X_male_center, aligend_eigen_face.T)"
   ]
  },
  {
   "cell_type": "code",
   "execution_count": 10,
   "metadata": {},
   "outputs": [],
   "source": [
    "_, X_female = utils.X_mean_V_chanel(aligned_folder, female_im_files)"
   ]
  },
  {
   "cell_type": "code",
   "execution_count": 11,
   "metadata": {},
   "outputs": [],
   "source": [
    "X_female_center = X_female - mean_image\n",
    "female_coef = np.matmul(X_female_center, aligend_eigen_face.T)"
   ]
  },
  {
   "cell_type": "code",
   "execution_count": 13,
   "metadata": {},
   "outputs": [],
   "source": [
    "mdict = {\"male_coef\": male_coef, \"female_coef\": female_coef}\n",
    "scipy.io.savemat(\"LDA_Aligned_Eigen_Face_Coef.mat\", mdict)"
   ]
  },
  {
   "cell_type": "markdown",
   "metadata": {},
   "source": [
    "## Read in top 10 eigen-warpings"
   ]
  },
  {
   "cell_type": "code",
   "execution_count": 14,
   "metadata": {},
   "outputs": [],
   "source": [
    "mdict = scipy.io.loadmat(\"PCA_Eigen_warping.mat\")\n",
    "mean_LM = mdict[\"mean_LM\"]\n",
    "eigen_warping = mdict[\"eigen_warping\"][:10, :] # top 10 eigen warpings"
   ]
  },
  {
   "cell_type": "markdown",
   "metadata": {},
   "source": [
    "## Compute landmark coef for male and female"
   ]
  },
  {
   "cell_type": "code",
   "execution_count": 18,
   "metadata": {},
   "outputs": [],
   "source": [
    "_, X_male = utils.LM_mean_LM_data(male_LM_folder, male_LM_files)"
   ]
  },
  {
   "cell_type": "code",
   "execution_count": 20,
   "metadata": {},
   "outputs": [],
   "source": [
    "X_male_center = X_male - mean_LM"
   ]
  },
  {
   "cell_type": "code",
   "execution_count": 21,
   "metadata": {},
   "outputs": [],
   "source": [
    "male_coef = np.matmul(X_male_center, eigen_warping.T)"
   ]
  },
  {
   "cell_type": "code",
   "execution_count": 23,
   "metadata": {},
   "outputs": [],
   "source": [
    "_, X_female = utils.LM_mean_LM_data(female_LM_folder, female_LM_files)\n",
    "X_female_center = X_female - mean_LM\n",
    "female_coef = np.matmul(X_female_center, eigen_warping.T)"
   ]
  },
  {
   "cell_type": "code",
   "execution_count": 25,
   "metadata": {},
   "outputs": [],
   "source": [
    "mdict = {\"male_coef\": male_coef, \"female_coef\": female_coef}\n",
    "scipy.io.savemat(\"LDA_Eigen_Warping_Coef.mat\", mdict)"
   ]
  },
  {
   "cell_type": "code",
   "execution_count": null,
   "metadata": {},
   "outputs": [],
   "source": []
  }
 ],
 "metadata": {
  "kernelspec": {
   "display_name": "Python 3",
   "language": "python",
   "name": "python3"
  },
  "language_info": {
   "codemirror_mode": {
    "name": "ipython",
    "version": 3
   },
   "file_extension": ".py",
   "mimetype": "text/x-python",
   "name": "python",
   "nbconvert_exporter": "python",
   "pygments_lexer": "ipython3",
   "version": "3.6.5"
  }
 },
 "nbformat": 4,
 "nbformat_minor": 2
}
