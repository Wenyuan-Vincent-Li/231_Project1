{
 "cells": [
  {
   "cell_type": "code",
   "execution_count": 1,
   "metadata": {},
   "outputs": [],
   "source": [
    "import skimage\n",
    "import skimage.io\n",
    "import os, sys\n",
    "import utils\n",
    "import numpy as np\n",
    "import scipy.io\n",
    "import matplotlib.pyplot as plt"
   ]
  },
  {
   "cell_type": "markdown",
   "metadata": {},
   "source": [
    "## Read in male and female face aligend 50 coeficients"
   ]
  },
  {
   "cell_type": "code",
   "execution_count": 3,
   "metadata": {},
   "outputs": [],
   "source": [
    "mdict = scipy.io.loadmat(\"LDA_Aligned_Eigen_Face_Coef.mat\")\n",
    "male_coef_face = mdict[\"male_coef\"]\n",
    "female_coef_face = mdict[\"female_coef\"]"
   ]
  },
  {
   "cell_type": "markdown",
   "metadata": {},
   "source": [
    "## Read in male and famal landmark coeficients"
   ]
  },
  {
   "cell_type": "code",
   "execution_count": 5,
   "metadata": {},
   "outputs": [],
   "source": [
    "mdict = scipy.io.loadmat(\"LDA_Eigen_Warping_Coef.mat\")\n",
    "male_coef_LM = mdict[\"male_coef\"]\n",
    "female_coef_LM = mdict[\"female_coef\"]"
   ]
  },
  {
   "cell_type": "markdown",
   "metadata": {},
   "source": [
    "## Train Test split"
   ]
  },
  {
   "cell_type": "code",
   "execution_count": 7,
   "metadata": {},
   "outputs": [],
   "source": [
    "train_male_face= male_coef_face[:330, :]\n",
    "train_female_face = female_coef_face[:470, :]\n",
    "train_male_LM = male_coef_LM[:330, :]\n",
    "train_female_LM = female_coef_LM[:470, :]\n",
    "\n",
    "test_male_face = male_coef_face[330:]\n",
    "test_female_face = female_coef_face[470:]\n",
    "test_male_LM = male_coef_LM[330:, :]\n",
    "test_female_LM = female_coef_LM[470:, :]"
   ]
  },
  {
   "cell_type": "markdown",
   "metadata": {},
   "source": [
    "## Calculate fisher face (appearance)"
   ]
  },
  {
   "cell_type": "code",
   "execution_count": 8,
   "metadata": {},
   "outputs": [],
   "source": [
    "male_mean_face = np.expand_dims(np.mean(train_male_face, axis = 0), axis = 0)\n",
    "female_mean_face = np.expand_dims(np.mean(train_female_face, axis = 0), axis = 0)"
   ]
  },
  {
   "cell_type": "code",
   "execution_count": 9,
   "metadata": {},
   "outputs": [],
   "source": [
    "Sw_face = np.matmul((train_male_face - male_mean_face).T, (train_male_face - male_mean_face)) + \\\n",
    "    np.matmul((train_female_face - female_mean_face).T, (train_female_face - female_mean_face))"
   ]
  },
  {
   "cell_type": "code",
   "execution_count": 10,
   "metadata": {},
   "outputs": [],
   "source": [
    "w_face = np.matmul(np.linalg.inv(Sw_face), (male_mean_face - female_mean_face).T)"
   ]
  },
  {
   "cell_type": "markdown",
   "metadata": {},
   "source": [
    "## Calculate fisher face (geometry)"
   ]
  },
  {
   "cell_type": "code",
   "execution_count": 11,
   "metadata": {},
   "outputs": [],
   "source": [
    "male_mean_LM = np.expand_dims(np.mean(train_male_LM, axis = 0), axis = 0)\n",
    "female_mean_LM = np.expand_dims(np.mean(train_female_LM, axis = 0), axis = 0)"
   ]
  },
  {
   "cell_type": "code",
   "execution_count": 12,
   "metadata": {},
   "outputs": [],
   "source": [
    "Sw_LM = np.matmul((train_male_LM - male_mean_LM).T, (train_male_LM - male_mean_LM)) + \\\n",
    "    np.matmul((train_female_LM - female_mean_LM).T, (train_female_LM - female_mean_LM))"
   ]
  },
  {
   "cell_type": "code",
   "execution_count": 13,
   "metadata": {},
   "outputs": [],
   "source": [
    "w_LM = np.matmul(np.linalg.inv(Sw_LM), (male_mean_LM - female_mean_LM).T)"
   ]
  },
  {
   "cell_type": "markdown",
   "metadata": {},
   "source": [
    "## Try on test set"
   ]
  },
  {
   "cell_type": "code",
   "execution_count": 14,
   "metadata": {},
   "outputs": [],
   "source": [
    "male_face_ans = np.matmul(test_male_face, w_face)\n",
    "male_LM_ans = np.matmul(test_male_LM, w_LM)"
   ]
  },
  {
   "cell_type": "code",
   "execution_count": 17,
   "metadata": {},
   "outputs": [],
   "source": [
    "female_face_ans = np.matmul(test_female_face, w_face)\n",
    "female_LM_ans = np.matmul(test_female_LM, w_LM)"
   ]
  },
  {
   "cell_type": "markdown",
   "metadata": {},
   "source": [
    "## Plot the graph"
   ]
  },
  {
   "cell_type": "code",
   "execution_count": 19,
   "metadata": {},
   "outputs": [
    {
     "data": {
      "image/png": "[encoded data removed]",
      "text/plain": [
       "<Figure size 432x288 with 1 Axes>"
      ]
     },
     "metadata": {},
     "output_type": "display_data"
    }
   ],
   "source": [
    "fig = plt.figure()\n",
    "plt.clf()\n",
    "plt.scatter(male_LM_ans, male_face_ans, marker = 'o', label = \"male_image\")\n",
    "plt.scatter(female_LM_ans, female_face_ans, marker = 'v', label = \"female_image\")\n",
    "plt.xlim(-)\n",
    "plt.title(\"200 Test images fisher score\")\n",
    "plt.legend()\n",
    "plt.show()\n",
    "# fig.savefig(\"11_200_test_fisher_score.png\")"
   ]
  },
  {
   "cell_type": "code",
   "execution_count": null,
   "metadata": {},
   "outputs": [],
   "source": []
  }
 ],
 "metadata": {
  "kernelspec": {
   "display_name": "Python 3",
   "language": "python",
   "name": "python3"
  },
  "language_info": {
   "codemirror_mode": {
    "name": "ipython",
    "version": 3
   },
   "file_extension": ".py",
   "mimetype": "text/x-python",
   "name": "python",
   "nbconvert_exporter": "python",
   "pygments_lexer": "ipython3",
   "version": "3.6.5"
  }
 },
 "nbformat": 4,
 "nbformat_minor": 2
}
