{
 "cells": [
  {
   "cell_type": "code",
   "execution_count": 1,
   "metadata": {},
   "outputs": [],
   "source": [
    "import skimage\n",
    "import skimage.io\n",
    "import os, sys\n",
    "import utils\n",
    "import numpy as np\n",
    "import scipy.io\n",
    "import matplotlib.pyplot as plt"
   ]
  },
  {
   "cell_type": "markdown",
   "metadata": {},
   "source": [
    "## Train test split"
   ]
  },
  {
   "cell_type": "code",
   "execution_count": 2,
   "metadata": {},
   "outputs": [],
   "source": [
    "male_image_folder = os.path.join(os.getcwd(), \"male_images\")\n",
    "male_im_files = utils.files_under_folder_with_suffix(male_image_folder, suffix = '.jpg')\n",
    "female_image_folder = os.path.join(os.getcwd(), \"female_images\")\n",
    "female_im_files = utils.files_under_folder_with_suffix(female_image_folder, suffix = '.jpg')"
   ]
  },
  {
   "cell_type": "code",
   "execution_count": 6,
   "metadata": {},
   "outputs": [],
   "source": [
    "train_male_image = male_im_files[:330]\n",
    "train_female_image = female_im_files[:470]\n",
    "\n",
    "test_male_image = male_im_files[330:]\n",
    "test_female_image = female_im_files[470:]"
   ]
  },
  {
   "cell_type": "markdown",
   "metadata": {},
   "source": [
    "## Read in top 50 eigen-face in Section 2.1.1"
   ]
  },
  {
   "cell_type": "code",
   "execution_count": 8,
   "metadata": {},
   "outputs": [],
   "source": [
    "mdict = scipy.io.loadmat(\"PCA_Eigen_Face.mat\")\n",
    "mean_image = mdict[\"mean_image\"]\n",
    "eigen_face = mdict[\"eigen_face\"]"
   ]
  },
  {
   "cell_type": "markdown",
   "metadata": {},
   "source": [
    "## Compute the coeficient"
   ]
  },
  {
   "cell_type": "code",
   "execution_count": 10,
   "metadata": {},
   "outputs": [],
   "source": [
    "_, X_male = utils.X_mean_V_chanel(male_image_folder, male_im_files)"
   ]
  },
  {
   "cell_type": "code",
   "execution_count": 12,
   "metadata": {},
   "outputs": [],
   "source": [
    "X_male_center = X_male - mean_image\n",
    "male_coef = np.matmul(X_male_center, eigen_face.T)"
   ]
  },
  {
   "cell_type": "code",
   "execution_count": 15,
   "metadata": {},
   "outputs": [],
   "source": [
    "_, X_female = utils.X_mean_V_chanel(female_image_folder, female_im_files)"
   ]
  },
  {
   "cell_type": "code",
   "execution_count": 17,
   "metadata": {},
   "outputs": [],
   "source": [
    "X_female_center = X_female - mean_image\n",
    "female_coef = np.matmul(X_female_center, eigen_face.T)"
   ]
  },
  {
   "cell_type": "code",
   "execution_count": 20,
   "metadata": {},
   "outputs": [],
   "source": [
    "mdict = {\"male_coef\":male_coef, \"female_coef\":female_coef}\n",
    "scipy.io.savemat(\"LDA_Eigen_Face_Coef.mat\", mdict)"
   ]
  }
 ],
 "metadata": {
  "kernelspec": {
   "display_name": "Python 3",
   "language": "python",
   "name": "python3"
  },
  "language_info": {
   "codemirror_mode": {
    "name": "ipython",
    "version": 3
   },
   "file_extension": ".py",
   "mimetype": "text/x-python",
   "name": "python",
   "nbconvert_exporter": "python",
   "pygments_lexer": "ipython3",
   "version": "3.6.5"
  }
 },
 "nbformat": 4,
 "nbformat_minor": 2
}
