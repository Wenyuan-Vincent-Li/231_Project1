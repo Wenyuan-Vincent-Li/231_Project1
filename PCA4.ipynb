{
 "cells": [
  {
   "cell_type": "code",
   "execution_count": 1,
   "metadata": {},
   "outputs": [],
   "source": [
    "import skimage\n",
    "import skimage.io\n",
    "import os, sys\n",
    "import utils\n",
    "import numpy as np\n",
    "import scipy.io\n",
    "import matplotlib.pyplot as plt\n",
    "import mywarper"
   ]
  },
  {
   "cell_type": "markdown",
   "metadata": {},
   "source": [
    "## Calculate eigen-value for eigen-warping"
   ]
  },
  {
   "cell_type": "code",
   "execution_count": 2,
   "metadata": {},
   "outputs": [],
   "source": [
    "mdict = scipy.io.loadmat(\"PCA_Train_Data_LandMark.mat\")\n",
    "mean_LM = mdict[\"mean_landmark\"]\n",
    "X_LM = mdict[\"train_data\"]\n",
    "X_LM_center =  X_LM - mean_LM"
   ]
  },
  {
   "cell_type": "code",
   "execution_count": 3,
   "metadata": {},
   "outputs": [],
   "source": [
    "CV_LM = np.matmul(X_LM_center.T, X_LM_center) / (800 - 1)"
   ]
  },
  {
   "cell_type": "code",
   "execution_count": 4,
   "metadata": {},
   "outputs": [],
   "source": [
    "mdict = scipy.io.loadmat(\"PCA_Eigen_warping.mat\")\n",
    "eigen_warping = mdict[\"eigen_warping\"] # top 10 eigen warpings"
   ]
  },
  {
   "cell_type": "code",
   "execution_count": 5,
   "metadata": {},
   "outputs": [],
   "source": [
    "LAMDA = np.matmul(CV_LM, eigen_warping.T)"
   ]
  },
  {
   "cell_type": "code",
   "execution_count": 6,
   "metadata": {},
   "outputs": [],
   "source": [
    "lamda = np.divide(LAMDA.T, eigen_warping)"
   ]
  },
  {
   "cell_type": "code",
   "execution_count": 7,
   "metadata": {},
   "outputs": [],
   "source": [
    "lamda = np.sum(lamda, axis = 1) / lamda.shape[1]"
   ]
  },
  {
   "cell_type": "code",
   "execution_count": 8,
   "metadata": {},
   "outputs": [],
   "source": [
    "mdict = {\"mean_LM\": mean_LM, \"eigen_warping\": eigen_warping, \"eigen_value_LM\": lamda}\n",
    "scipy.io.savemat(\"PCA_Eigen_warping.mat\", mdict)"
   ]
  },
  {
   "cell_type": "markdown",
   "metadata": {},
   "source": [
    "## Calculate eigen-value for aligned-eigen-face"
   ]
  },
  {
   "cell_type": "code",
   "execution_count": 9,
   "metadata": {},
   "outputs": [],
   "source": [
    "aligned_folder = os.path.join(os.getcwd(), \"aligned_images\")\n",
    "ai_images_files = utils.files_under_folder_with_suffix(aligned_folder, suffix = '.jpg')\n",
    "train_set_im = ai_images_files[: 800]\n",
    "mean_image, X_AI = utils.X_mean_V_chanel(aligned_folder, train_set_im)"
   ]
  },
  {
   "cell_type": "code",
   "execution_count": 10,
   "metadata": {},
   "outputs": [],
   "source": [
    "mdict = scipy.io.loadmat(\"PCA_Aligned_Eigen_Face.mat\")\n",
    "aligned_eigen_face = mdict[\"aligned_eigen_face\"]\n",
    "X_AI_center =  X_AI - mean_image"
   ]
  },
  {
   "cell_type": "code",
   "execution_count": 11,
   "metadata": {},
   "outputs": [
    {
     "data": {
      "text/plain": [
       "(16384, 16384)"
      ]
     },
     "execution_count": 11,
     "metadata": {},
     "output_type": "execute_result"
    }
   ],
   "source": [
    "CV_AI = np.matmul(X_AI_center.T, X_AI_center) / (800 - 1)\n",
    "CV_AI.shape"
   ]
  },
  {
   "cell_type": "code",
   "execution_count": 12,
   "metadata": {},
   "outputs": [
    {
     "data": {
      "text/plain": [
       "(50, 16384)"
      ]
     },
     "execution_count": 12,
     "metadata": {},
     "output_type": "execute_result"
    }
   ],
   "source": [
    "aligned_eigen_face.shape"
   ]
  },
  {
   "cell_type": "code",
   "execution_count": 13,
   "metadata": {},
   "outputs": [
    {
     "name": "stderr",
     "output_type": "stream",
     "text": [
      "/Users/wenyuan/anaconda/envs/tensorflow/lib/python3.6/site-packages/ipykernel_launcher.py:2: RuntimeWarning: invalid value encountered in true_divide\n",
      "  \n"
     ]
    }
   ],
   "source": [
    "LAMDA = np.matmul(CV_AI, aligned_eigen_face.T)\n",
    "lamda = np.divide(LAMDA.T, aligned_eigen_face)"
   ]
  },
  {
   "cell_type": "code",
   "execution_count": 14,
   "metadata": {},
   "outputs": [],
   "source": [
    "lamda = lamda[:, 0]"
   ]
  },
  {
   "cell_type": "code",
   "execution_count": 15,
   "metadata": {},
   "outputs": [],
   "source": [
    "mdict = {\"mean_image\": mean_image, \"aligned_eigen_face\": aligned_eigen_face, \"eigen_value_AI\": lamda}\n",
    "scipy.io.savemat(\"PCA_Aligned_Eigen_Face.mat\", mdict)"
   ]
  },
  {
   "cell_type": "code",
   "execution_count": null,
   "metadata": {},
   "outputs": [],
   "source": []
  }
 ],
 "metadata": {
  "kernelspec": {
   "display_name": "Python 3",
   "language": "python",
   "name": "python3"
  },
  "language_info": {
   "codemirror_mode": {
    "name": "ipython",
    "version": 3
   },
   "file_extension": ".py",
   "mimetype": "text/x-python",
   "name": "python",
   "nbconvert_exporter": "python",
   "pygments_lexer": "ipython3",
   "version": "3.6.5"
  }
 },
 "nbformat": 4,
 "nbformat_minor": 2
}
