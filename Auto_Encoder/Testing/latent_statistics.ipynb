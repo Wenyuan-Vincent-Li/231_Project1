{
 "cells": [
  {
   "cell_type": "code",
   "execution_count": 1,
   "metadata": {},
   "outputs": [],
   "source": [
    "import os, sys\n",
    "root_dir = os.path.dirname(os.getcwd())\n",
    "sys.path.append(root_dir)\n",
    "import tensorflow as tf\n",
    "import scipy.io\n",
    "import numpy as np\n",
    "\n",
    "from config import Config\n",
    "from Model.Auto_encoder import Auto_encoder as Model\n",
    "from Testing.Eval import Evaler\n",
    "from Testing import utils"
   ]
  },
  {
   "cell_type": "code",
   "execution_count": 2,
   "metadata": {},
   "outputs": [],
   "source": [
    "class TempConfig(Config):\n",
    "    NAME = \"Face Auto Encoder\"\n",
    "    ## Input pipeline\n",
    "    DATA_DIR = os.path.join(root_dir, \"DataSet\")\n",
    "    BATCH_SIZE = 400\n",
    "    SUMMARY = False\n",
    "    SAVE = False\n",
    "\n",
    "# Create a global configuration object\n",
    "config = TempConfig()"
   ]
  },
  {
   "cell_type": "code",
   "execution_count": 3,
   "metadata": {},
   "outputs": [],
   "source": [
    "## Specify the trained weights localtion\n",
    "save_dir = os.path.join(root_dir, \"Training/Weight\")  # Folder that saves the trained weights\n",
    "Run = None\n",
    "epoch = None"
   ]
  },
  {
   "cell_type": "code",
   "execution_count": 4,
   "metadata": {},
   "outputs": [
    {
     "name": "stdout",
     "output_type": "stream",
     "text": [
      "INFO:tensorflow:Restoring parameters from /home/wenyuan/Documents/Project/231/231_Project1/Auto_Encoder/Training/Weight/Run_2018-10-28_18_40_21/model_0300.ckpt\n"
     ]
    }
   ],
   "source": [
    "Eval = Evaler(config, save_dir)\n",
    "output = Eval.evaler(Model, dir_names=Run, epoch=epoch)"
   ]
  },
  {
   "cell_type": "code",
   "execution_count": 5,
   "metadata": {},
   "outputs": [
    {
     "data": {
      "text/plain": [
       "2"
      ]
     },
     "execution_count": 5,
     "metadata": {},
     "output_type": "execute_result"
    }
   ],
   "source": [
    "len(output)"
   ]
  },
  {
   "cell_type": "code",
   "execution_count": 6,
   "metadata": {},
   "outputs": [
    {
     "data": {
      "text/plain": [
       "(800, 50)"
      ]
     },
     "execution_count": 6,
     "metadata": {},
     "output_type": "execute_result"
    }
   ],
   "source": [
    "im_latent = np.concatenate([output[0][1], output[1][1]], axis = 0)\n",
    "im_latent.shape"
   ]
  },
  {
   "cell_type": "code",
   "execution_count": 7,
   "metadata": {},
   "outputs": [
    {
     "data": {
      "text/plain": [
       "(800, 10)"
      ]
     },
     "execution_count": 7,
     "metadata": {},
     "output_type": "execute_result"
    }
   ],
   "source": [
    "lm_latent = np.concatenate([output[0][3], output[1][3]], axis = 0)\n",
    "lm_latent.shape"
   ]
  },
  {
   "cell_type": "code",
   "execution_count": 8,
   "metadata": {},
   "outputs": [
    {
     "name": "stdout",
     "output_type": "stream",
     "text": [
      "(50,) (10,)\n"
     ]
    }
   ],
   "source": [
    "im_mean = np.mean(im_latent, axis = 0)\n",
    "lm_mean = np.mean(lm_latent, axis = 0)\n",
    "print(im_mean.shape, lm_mean.shape)"
   ]
  },
  {
   "cell_type": "code",
   "execution_count": 10,
   "metadata": {},
   "outputs": [],
   "source": [
    "im_var = np.var(im_latent, axis = 0)\n",
    "lm_var = np.var(lm_latent, axis = 0)"
   ]
  },
  {
   "cell_type": "code",
   "execution_count": 34,
   "metadata": {},
   "outputs": [],
   "source": [
    "im_idx = np.argsort(im_var)\n",
    "im_idx = im_idx[46 : 50]"
   ]
  },
  {
   "cell_type": "code",
   "execution_count": 38,
   "metadata": {},
   "outputs": [],
   "source": [
    "max_val = np.max(im_latent[:, im_idx], axis = 0)\n",
    "min_val = np.min(im_latent[:, im_idx], axis = 0)"
   ]
  },
  {
   "cell_type": "code",
   "execution_count": 40,
   "metadata": {},
   "outputs": [],
   "source": [
    "im_range = np.stack([max_val, min_val], axis = 0)"
   ]
  },
  {
   "cell_type": "code",
   "execution_count": 43,
   "metadata": {},
   "outputs": [],
   "source": [
    "lm_idx = np.argsort(lm_var)\n",
    "lm_idx = lm_idx[8 : 10]"
   ]
  },
  {
   "cell_type": "code",
   "execution_count": 45,
   "metadata": {},
   "outputs": [],
   "source": [
    "max_val = np.max(lm_latent[:, lm_idx], axis = 0)\n",
    "min_val = np.min(lm_latent[:, lm_idx], axis = 0)"
   ]
  },
  {
   "cell_type": "code",
   "execution_count": 46,
   "metadata": {},
   "outputs": [],
   "source": [
    "lm_range = np.stack([max_val, min_val], axis = 0)"
   ]
  },
  {
   "cell_type": "code",
   "execution_count": 50,
   "metadata": {},
   "outputs": [],
   "source": [
    "mdict = {\"im_latent\": im_latent, \"lm_latent\": lm_latent, \"im_mean\":im_mean, \"lm_mean\":lm_mean, \n",
    "        \"im_val\":im_var, \"lm_val\": lm_var, \"im_idx\":im_idx, \"lm_idx\":lm_idx, \n",
    "         \"im_range\":im_range, \"lm_range\":lm_range}\n",
    "\n",
    "scipy.io.savemat(\"latent_statistics.mat\", mdict)"
   ]
  }
 ],
 "metadata": {
  "kernelspec": {
   "display_name": "Python 3",
   "language": "python",
   "name": "python3"
  },
  "language_info": {
   "codemirror_mode": {
    "name": "ipython",
    "version": 3
   },
   "file_extension": ".py",
   "mimetype": "text/x-python",
   "name": "python",
   "nbconvert_exporter": "python",
   "pygments_lexer": "ipython3",
   "version": "3.6.6"
  }
 },
 "nbformat": 4,
 "nbformat_minor": 2
}
