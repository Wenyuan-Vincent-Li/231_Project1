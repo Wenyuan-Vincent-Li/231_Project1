{
 "cells": [
  {
   "cell_type": "code",
   "execution_count": 1,
   "metadata": {},
   "outputs": [],
   "source": [
    "import skimage\n",
    "import skimage.io\n",
    "import os, sys\n",
    "import utils\n",
    "import numpy as np\n",
    "import scipy.io\n",
    "import matplotlib.pyplot as plt\n",
    "import mywarper"
   ]
  },
  {
   "cell_type": "markdown",
   "metadata": {},
   "source": [
    "## Read in the 50 eigen-face"
   ]
  },
  {
   "cell_type": "code",
   "execution_count": 2,
   "metadata": {},
   "outputs": [],
   "source": [
    "mdict = scipy.io.loadmat(\"PCA_Aligned_Eigen_Face.mat\")\n",
    "mean_image = mdict[\"mean_image\"]\n",
    "eigen_face = mdict[\"aligned_eigen_face\"]"
   ]
  },
  {
   "cell_type": "markdown",
   "metadata": {},
   "source": [
    "## Read in the 10 eigen-warpings"
   ]
  },
  {
   "cell_type": "code",
   "execution_count": 3,
   "metadata": {},
   "outputs": [],
   "source": [
    "mdict = scipy.io.loadmat(\"PCA_Eigen_warping.mat\")\n",
    "mean_LM = mdict[\"mean_LM\"]\n",
    "eigen_warping = mdict[\"eigen_warping\"][:10, :] # top 10 eigen warpings"
   ]
  },
  {
   "cell_type": "markdown",
   "metadata": {},
   "source": [
    "## Define the test set and fetch the test set"
   ]
  },
  {
   "cell_type": "code",
   "execution_count": 4,
   "metadata": {},
   "outputs": [],
   "source": [
    "image_folder = os.path.join(os.getcwd(), \"images\")\n",
    "image_files = utils.files_under_folder_with_suffix(image_folder, suffix = '.jpg')\n",
    "test_set_im = image_files[800:]\n",
    "\n",
    "landmark_folder = os.path.join(os.getcwd(), \"landmarks\")\n",
    "LM_files = utils.files_under_folder_with_suffix(landmark_folder, suffix = '.mat')\n",
    "test_set_LM = LM_files[800:]\n",
    "\n",
    "aligned_folder = os.path.join(os.getcwd(), \"aligned_images\")"
   ]
  },
  {
   "cell_type": "code",
   "execution_count": 12,
   "metadata": {},
   "outputs": [],
   "source": [
    "_, X_test_LM = utils.LM_mean_LM_data(landmark_folder, test_set_LM)\n",
    "_, X_test_AI = utils.X_mean_V_chanel(aligned_folder, test_set_im) # test aligned images\n",
    "X_org, _ = utils.reconstruct_image(image_folder, test_set_im, mean_image, eigen_face)\n",
    "X_org = X_org.reshape((X_org.shape[0], 128, 128, 3))"
   ]
  },
  {
   "cell_type": "markdown",
   "metadata": {},
   "source": [
    "## Do reconstruction loss calculation"
   ]
  },
  {
   "cell_type": "code",
   "execution_count": 35,
   "metadata": {},
   "outputs": [],
   "source": [
    "K = [x for x in range(0, 55, 5)]\n",
    "K[0] = 1\n",
    "Mean_LM = mean_LM.reshape((68, 2))\n",
    "Loss = []"
   ]
  },
  {
   "cell_type": "code",
   "execution_count": 36,
   "metadata": {},
   "outputs": [],
   "source": [
    "for k in K:\n",
    "    _, X_re = utils.reconstruct_image(aligned_folder, test_set_im, mean_image, eigen_face[:k, :])\n",
    "    X_re = X_re.reshape((X_re.shape[0], 128, 128, 3))\n",
    "    recons_LM = utils.reconstruct_landmark(X_test_LM, mean_LM, eigen_warping)\n",
    "    for i in range(X_re.shape[0]):\n",
    "        final_im = mywarper.warp(X_re[i, :, :, :], Mean_LM, recons_LM[i, :, :])\n",
    "        if i == 0:\n",
    "            Final_im = np.expand_dims(final_im, axis = 0)\n",
    "        else:\n",
    "            Final_im = np.concatenate([Final_im, np.expand_dims(final_im, axis = 0)], axis = 0)\n",
    "    loss = np.square(Final_im - X_org)\n",
    "    loss = np.sum(loss) / Final_im.size\n",
    "    Loss.append(loss)"
   ]
  },
  {
   "cell_type": "code",
   "execution_count": 37,
   "metadata": {},
   "outputs": [
    {
     "data": {
      "image/png": "[encoded data removed]",
      "text/plain": [
       "<Figure size 432x288 with 1 Axes>"
      ]
     },
     "metadata": {},
     "output_type": "display_data"
    },
    {
     "data": {
      "text/plain": [
       "<Figure size 432x288 with 0 Axes>"
      ]
     },
     "metadata": {},
     "output_type": "display_data"
    }
   ],
   "source": [
    "plt.plot(K, Loss)\n",
    "plt.xlabel(\"N_components\")\n",
    "plt.ylabel(\"Reconstruction Error\")\n",
    "plt.show()\n",
    "plt.savefig(\"9_reconstructed_error.png\")"
   ]
  },
  {
   "cell_type": "code",
   "execution_count": null,
   "metadata": {},
   "outputs": [],
   "source": []
  }
 ],
 "metadata": {
  "kernelspec": {
   "display_name": "Python 3",
   "language": "python",
   "name": "python3"
  },
  "language_info": {
   "codemirror_mode": {
    "name": "ipython",
    "version": 3
   },
   "file_extension": ".py",
   "mimetype": "text/x-python",
   "name": "python",
   "nbconvert_exporter": "python",
   "pygments_lexer": "ipython3",
   "version": "3.6.5"
  }
 },
 "nbformat": 4,
 "nbformat_minor": 2
}
